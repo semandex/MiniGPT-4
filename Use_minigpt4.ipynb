{
 "nbformat": 4,
 "nbformat_minor": 0,
 "metadata": {
  "colab": {
   "provenance": [
    {
     "file_id": "1OK4kYsZphwt5DXchKkzMBjYF6jnkqh4R",
     "timestamp": 1684744324630
    }
   ]
  },
  "kernelspec": {
   "name": "python3",
   "display_name": "Python 3"
  },
  "language_info": {
   "name": "python"
  },
  "gpuClass": "standard",
  "accelerator": "GPU"
 },
 "cells": [
  {
   "cell_type": "markdown",
   "source": [
    "# Check GPU"
   ],
   "metadata": {
    "id": "QQzLoKL38P0R"
   }
  },
  {
   "cell_type": "code",
   "source": [
    "!nvidia-smi"
   ],
   "metadata": {
    "colab": {
     "base_uri": "https://localhost:8080/"
    },
    "id": "IQiobft0yXpg",
    "executionInfo": {
     "status": "ok",
     "timestamp": 1682212362537,
     "user_tz": -480,
     "elapsed": 481,
     "user": {
      "displayName": "王荣胜",
      "userId": "15711791578430764716"
     }
    },
    "outputId": "dbc03def-30a6-4bab-bfe0-3a9b386a738b"
   },
   "execution_count": null,
   "outputs": []
  },
  {
   "cell_type": "markdown",
   "source": [
    "# Install requirements"
   ],
   "metadata": {
    "collapsed": false
   }
  },
  {
   "cell_type": "code",
   "source": [
    "!pip install -qr requirements.txt"
   ],
   "metadata": {
    "id": "BzZIcNue_pYn"
   },
   "execution_count": null,
   "outputs": []
  },
  {
   "cell_type": "code",
   "source": [
    "!pip install -q salesforce-lavis\n",
    "!pip install -q bitsandbytes\n",
    "!pip install -q accelerate\n",
    "!pip install -q gradio==3.27.0"
   ],
   "metadata": {
    "id": "VyRZwh6X1gYt",
    "colab": {
     "base_uri": "https://localhost:8080/"
    },
    "executionInfo": {
     "status": "ok",
     "timestamp": 1682212671332,
     "user_tz": -480,
     "elapsed": 61201,
     "user": {
      "displayName": "王荣胜",
      "userId": "15711791578430764716"
     }
    },
    "outputId": "10e3e3dd-fb79-4b81-ba72-b9117aab973d"
   },
   "execution_count": null,
   "outputs": []
  },
  {
   "cell_type": "code",
   "source": [
    "!pip install -q h5py\n",
    "!pip install -q typing-extensions\n",
    "!pip install -q wheel\n",
    "!pip install -q git+https://github.com/huggingface/transformers.git -U"
   ],
   "metadata": {
    "id": "3QaQcHjT2l6z",
    "colab": {
     "base_uri": "https://localhost:8080/"
    },
    "executionInfo": {
     "status": "ok",
     "timestamp": 1682213017732,
     "user_tz": -480,
     "elapsed": 36850,
     "user": {
      "displayName": "王荣胜",
      "userId": "15711791578430764716"
     }
    },
    "outputId": "ce51bbf2-b287-4a29-f31d-e227113f1472"
   },
   "execution_count": null,
   "outputs": []
  },
  {
   "cell_type": "markdown",
   "source": [
    "# Download pretrained_minigpt4"
   ],
   "metadata": {
    "id": "iftS7jdt8XDB"
   }
  },
  {
   "cell_type": "code",
   "source": [
    "!wget https://huggingface.co/wangrongsheng/MiniGPT4-7B/resolve/main/prerained_minigpt4_7b.pth"
   ],
   "metadata": {
    "colab": {
     "base_uri": "https://localhost:8080/"
    },
    "id": "69XCMTuCAVfO",
    "executionInfo": {
     "status": "ok",
     "timestamp": 1682212757379,
     "user_tz": -480,
     "elapsed": 5198,
     "user": {
      "displayName": "王荣胜",
      "userId": "15711791578430764716"
     }
    },
    "outputId": "ebc155ee-bb79-44b0-d43f-21dacb308f08"
   },
   "execution_count": null,
   "outputs": []
  },
  {
   "cell_type": "markdown",
   "source": [
    "# Run MiniGPT-4"
   ],
   "metadata": {
    "id": "lndJLTq89crE"
   }
  },
  {
   "cell_type": "markdown",
   "source": [
    "You can run the caption generation."
   ],
   "metadata": {
    "collapsed": false
   }
  },
  {
   "cell_type": "code",
   "source": [
    "!python generate_captions.py --cfg-path eval_configs/minigpt4_eval.yaml --gpu-id 0"
   ],
   "metadata": {
    "colab": {
     "base_uri": "https://localhost:8080/"
    },
    "id": "IoPqDP4WC_km",
    "executionInfo": {
     "status": "ok",
     "timestamp": 1682214341567,
     "user_tz": -480,
     "elapsed": 87869,
     "user": {
      "displayName": "王荣胜",
      "userId": "15711791578430764716"
     }
    },
    "outputId": "da2ad319-33bc-494f-c6c9-c16c1bd483b0"
   },
   "execution_count": null,
   "outputs": []
  },
  {
   "cell_type": "markdown",
   "source": [
    "Alternatively, you can run MiniGPT-4's demo."
   ],
   "metadata": {
    "collapsed": false
   }
  },
  {
   "cell_type": "code",
   "source": [
    "!python demo.py --cfg-path eval_configs/minigpt4_eval.yaml --gpu-id 0"
   ],
   "metadata": {
    "id": "3YZwzYXFPEmu"
   },
   "execution_count": null,
   "outputs": []
  }
 ]
}
